{
 "cells": [
  {
   "cell_type": "markdown",
   "id": "46f01687",
   "metadata": {},
   "source": [
    "# Disney Dataset Creation"
   ]
  },
  {
   "cell_type": "markdown",
   "id": "78cbba7c",
   "metadata": {},
   "source": [
    "#### Scrape and clean a list of disney wikipedia pages to create a dataset for further analysis"
   ]
  },
  {
   "cell_type": "markdown",
   "id": "5a2b0284",
   "metadata": {},
   "source": [
    "## Info Box for One Movie"
   ]
  },
  {
   "cell_type": "markdown",
   "id": "6faa9bc9",
   "metadata": {},
   "source": [
    "Import necessary libraries"
   ]
  },
  {
   "cell_type": "code",
   "execution_count": null,
   "id": "6ad13daf",
   "metadata": {},
   "outputs": [],
   "source": [
    "from bs4 import BeautifulSoup as bs\n",
    "import json\n",
    "import requests\n",
    "import re\n",
    "import pickle\n",
    "import urllib\n",
    "import os\n",
    "from datetime import datetime\n",
    "import pandas as pd"
   ]
  },
  {
   "cell_type": "markdown",
   "id": "2da415ea",
   "metadata": {},
   "source": [
    "Load the webpage"
   ]
  },
  {
   "cell_type": "code",
   "execution_count": null,
   "id": "e356ae5e",
   "metadata": {},
   "outputs": [],
   "source": [
    "r = requests.get(\"https://en.wikipedia.org/wiki/Toy_Story_3\")\n",
    "\n",
    "# Convert to a beautiful soup object\n",
    "soup = bs(r.content)\n",
    "\n",
    "# Print out the HTML\n",
    "contents = soup.prettify()\n",
    "print(contents)\n"
   ]
  },
  {
   "cell_type": "code",
   "execution_count": null,
   "id": "124a38ff",
   "metadata": {},
   "outputs": [],
   "source": [
    "# Grab the infobox vevent\n",
    "info_box = soup.find(class_=\"infobox vevent\")\n",
    "# print(info_box.prettify())\n",
    "\n",
    "info_rows = info_box.find_all(\"tr\")\n",
    "for row in info_rows:\n",
    "    print(row.prettify())"
   ]
  },
  {
   "cell_type": "markdown",
   "id": "69d51516",
   "metadata": {},
   "source": [
    "## Info box for all disney movies"
   ]
  },
  {
   "cell_type": "code",
   "execution_count": null,
   "id": "c0291ada",
   "metadata": {},
   "outputs": [],
   "source": [
    "r = requests.get(\"https://en.wikipedia.org/wiki/List_of_Walt_Disney_Pictures_films\")\n",
    "\n",
    "# Convert to a beautiful soup object\n",
    "soup = bs(r.content)\n",
    "\n",
    "# Print out the HTML\n",
    "contents = soup.prettify()\n",
    "print(contents)\n"
   ]
  },
  {
   "cell_type": "code",
   "execution_count": null,
   "id": "368aa0bb",
   "metadata": {
    "scrolled": true
   },
   "outputs": [],
   "source": [
    "# movies = soup.find_all(class_=\"wikitable\")\n",
    "movies = soup.select(\".wikitable.sortable i \")\n"
   ]
  },
  {
   "cell_type": "markdown",
   "id": "c1ae7783",
   "metadata": {},
   "source": [
    "### Functions"
   ]
  },
  {
   "cell_type": "markdown",
   "id": "a09875bf",
   "metadata": {},
   "source": [
    "Get the content"
   ]
  },
  {
   "cell_type": "code",
   "execution_count": null,
   "id": "4b4ebfec",
   "metadata": {},
   "outputs": [],
   "source": [
    "# Check if there is a list\n",
    "def get_content_value(row_data):\n",
    "    if row_data.find(\"li\"):\n",
    "        return [li.get_text(\" \", strip=True).replace(\"\\xa0\", \" \") for li in row_data.find_all(\"li\")]\n",
    "    elif row_data.find(\"br\") or row_data.find(\"a\"):\n",
    "        return [text for text in row_data.stripped_strings]\n",
    "    else:\n",
    "        return row_data.get_text(\" \", strip=True).replace(\"\\xa0\", \" \")\n",
    "    "
   ]
  },
  {
   "cell_type": "markdown",
   "id": "f99e38cc",
   "metadata": {},
   "source": [
    "Strip out references"
   ]
  },
  {
   "cell_type": "code",
   "execution_count": null,
   "id": "deae15d2",
   "metadata": {},
   "outputs": [],
   "source": [
    "def clean_tags(soup):\n",
    "    for tag in soup.find_all([\"sup\", \"span\"]):\n",
    "        tag.decompose()"
   ]
  },
  {
   "cell_type": "markdown",
   "id": "30255c73",
   "metadata": {},
   "source": [
    "Get the info box"
   ]
  },
  {
   "cell_type": "code",
   "execution_count": null,
   "id": "4b0bab42",
   "metadata": {},
   "outputs": [],
   "source": [
    "def get_info_box(url):\n",
    "    \n",
    "    r = requests.get(url)\n",
    "\n",
    "    # Convert to a beautiful soup object\n",
    "    soup = bs(r.content)\n",
    "    \n",
    "    info_box = soup.find(class_=\"infobox vevent\")\n",
    "    info_rows = info_box.find_all(\"tr\")\n",
    "    \n",
    "    # clean out the references\n",
    "    clean_tags(soup)\n",
    "    \n",
    "    movie_info = {}\n",
    "    \n",
    "    # index and row -> enumerate \n",
    "    # get_text(\" \", strip=True) remove whitespaces\n",
    "    for index, row in enumerate(info_rows):\n",
    "        if index == 0:\n",
    "            movie_info[\"title\"] = row.find(\"th\").get_text(\" \", strip=True)\n",
    "        elif index == 1:\n",
    "            continue\n",
    "        else:\n",
    "            header = row.find(\"th\")\n",
    "            if header:\n",
    "                content_key = row.find(\"th\").get_text(\" \", strip=True)\n",
    "                content_value = get_content_value(row.find(\"td\"))\n",
    "\n",
    "                movie_info[content_key] = content_value\n",
    "    return movie_info"
   ]
  },
  {
   "cell_type": "code",
   "execution_count": null,
   "id": "ee29d35d",
   "metadata": {},
   "outputs": [],
   "source": [
    "r = requests.get(\"https://en.wikipedia.org/wiki/List_of_Walt_Disney_Pictures_films\")\n",
    "# Convert to a beautiful soup object\n",
    "soup = bs(r.content)\n",
    "movies = soup.select(\".wikitable.sortable i a\")\n",
    "\n",
    "base_path = \"https://en.wikipedia.org/\"\n",
    "movie_info_list = []\n",
    "\n",
    "for index, movie in enumerate(movies):\n",
    "    # debugging\n",
    "#     if index == 10:\n",
    "#         break \n",
    "    if index % 100 == 0:\n",
    "        print(index)\n",
    "        \n",
    "    try:\n",
    "        relative_path = movie[\"href\"]\n",
    "        full_path = base_path + relative_path\n",
    "        title = movie[\"title\"]\n",
    "        \n",
    "        movie_info_list.append(get_info_box(full_path))\n",
    "        \n",
    "        \n",
    "    except Exception as e:\n",
    "        print(movie.get_text())\n",
    "        print(e)\n",
    "      "
   ]
  },
  {
   "cell_type": "markdown",
   "id": "c677eff6",
   "metadata": {},
   "source": [
    "## Save/Relaod Movie Data"
   ]
  },
  {
   "cell_type": "markdown",
   "id": "1bd8d698",
   "metadata": {},
   "source": [
    "Save Data function"
   ]
  },
  {
   "cell_type": "code",
   "execution_count": null,
   "id": "729f0ec8",
   "metadata": {},
   "outputs": [],
   "source": [
    "def save_data(title, data):\n",
    "    with open(title, \"w\", encoding=\"utf-8\") as f:\n",
    "        json.dump(data, f, ensure_ascii=False, indent = 2)\n",
    "    "
   ]
  },
  {
   "cell_type": "markdown",
   "id": "0f9accd7",
   "metadata": {},
   "source": [
    "Load Data function"
   ]
  },
  {
   "cell_type": "code",
   "execution_count": null,
   "id": "77008e5d",
   "metadata": {},
   "outputs": [],
   "source": [
    "def load_data(title):\n",
    "    with open(title, encoding=\"utf-8\") as f:\n",
    "        return json.load(f)"
   ]
  },
  {
   "cell_type": "markdown",
   "id": "10a2d9a0",
   "metadata": {},
   "source": [
    "Save the data"
   ]
  },
  {
   "cell_type": "code",
   "execution_count": null,
   "id": "0dfd0613",
   "metadata": {},
   "outputs": [],
   "source": [
    "save_data(\"disney_movie_data_cleaned.json\", movie_info_list)"
   ]
  },
  {
   "cell_type": "markdown",
   "id": "5cdec546",
   "metadata": {},
   "source": [
    "Load Data"
   ]
  },
  {
   "cell_type": "code",
   "execution_count": null,
   "id": "68fc2444",
   "metadata": {},
   "outputs": [],
   "source": [
    "movie_info_list = load_data(\"disney_movie_data_cleaned.json\")"
   ]
  },
  {
   "cell_type": "markdown",
   "id": "e057acab",
   "metadata": {},
   "source": [
    "## Convert running time field to an integer"
   ]
  },
  {
   "cell_type": "code",
   "execution_count": null,
   "id": "3961bcaa",
   "metadata": {},
   "outputs": [],
   "source": [
    "[movie.get(\"Running time\", \"N/A\") for movie in movie_info_list]"
   ]
  },
  {
   "cell_type": "code",
   "execution_count": null,
   "id": "52476e25",
   "metadata": {},
   "outputs": [],
   "source": [
    "def minutes_to_integer(running_time):\n",
    "    if running_time == \"N/A\":\n",
    "        return None\n",
    "    #if running time is a list\n",
    "    if isinstance(running_time, list):\n",
    "        return int(running_time[0].split(\" \")[0])  \n",
    "    else:\n",
    "        return int(running_time.split(\" \")[0])\n",
    "\n",
    "for movie in movie_info_list:\n",
    "    movie[\"Running time (int)\"] = minutes_to_integer(movie.get(\"Running time\", \"N/A\"))\n"
   ]
  },
  {
   "cell_type": "markdown",
   "id": "59a8f1a4",
   "metadata": {},
   "source": [
    "## Convert \"Budget\" & \"Box Office\" fields to an integer"
   ]
  },
  {
   "cell_type": "code",
   "execution_count": null,
   "id": "be39ba24",
   "metadata": {},
   "outputs": [],
   "source": [
    "[movie.get(\"Budget\", \"N/A\") for movie in movie_info_list]"
   ]
  },
  {
   "cell_type": "code",
   "execution_count": null,
   "id": "74ac8acc",
   "metadata": {},
   "outputs": [],
   "source": [
    "\n",
    "# any number\n",
    "number = r\"\\d{1,3}(?:,\\d{3})*(?:\\.\\d+)?\"\n",
    "amounts = r\"thousand|million|billion\"\n",
    "value_re = rf\"\\${number}\"\n",
    "word_re = rf\"\\${number}(-|\\sto\\s|-)?({number})?\\s({amounts})\"\n",
    "\n",
    "def word_to_value(word):\n",
    "    value_dict = {\"thousand\":1000, \"million\":1000000, \"billion\": 1000000000}\n",
    "    return value_dict[word]\n",
    "\n",
    "def parse_word_syntax(string):\n",
    "    value = re.search(number, string).group()\n",
    "    value_string = float(value.replace(\",\", \"\"))\n",
    "    word = re.search(amounts, string).group()\n",
    "    word_value = word_to_value(word)\n",
    "    return value_string * word_value\n",
    "\n",
    "def parse_value_syntax(string):\n",
    "    value_string = re.search(number, string).group()\n",
    "    value = float(value_string.replace(\",\", \"\"))\n",
    "    return value\n",
    "\n",
    "def budget_conversion(money):\n",
    "    if money == \"N/A\":\n",
    "        return None\n",
    "    \n",
    "    if isinstance(money, list):\n",
    "        money = money[0]\n",
    "    \n",
    "    word_syntax = re.search(word_re, money)\n",
    "    value_syntax = re.search(value_re, money)\n",
    "    \n",
    "    if word_syntax:\n",
    "        return parse_word_syntax(word_syntax.group())\n",
    "    \n",
    "    elif value_syntax:\n",
    "        return parse_value_syntax(value_syntax.group())\n",
    "    \n",
    "    else:\n",
    "        return None"
   ]
  },
  {
   "cell_type": "code",
   "execution_count": null,
   "id": "1b8ec278",
   "metadata": {},
   "outputs": [],
   "source": [
    "for movie in movie_info_list:\n",
    "    movie[\"Budget (float)\"] = budget_conversion(movie.get(\"Budget\", \"N/A\"))\n",
    "    movie[\"Box office (float)\"] = budget_conversion(movie.get(\"Box office\", \"N/A\"))"
   ]
  },
  {
   "cell_type": "markdown",
   "id": "a840df02",
   "metadata": {},
   "source": [
    "## Convert dates into datetime objects"
   ]
  },
  {
   "cell_type": "code",
   "execution_count": null,
   "id": "b152df85",
   "metadata": {},
   "outputs": [],
   "source": [
    "[movie.get('Release date', movie.get('Release dates')) for movie in movie_info_list]"
   ]
  },
  {
   "cell_type": "code",
   "execution_count": null,
   "id": "dbeeca88",
   "metadata": {},
   "outputs": [],
   "source": [
    "def clean_date(date):\n",
    "    if date is None:\n",
    "        return \"\"\n",
    "    return date.split(\"(\")[0].strip()\n",
    "\n",
    "def date_conversion(date):\n",
    "    \n",
    "    if isinstance(date, list):\n",
    "        date = date[0]\n",
    "        \n",
    "    date_str = clean_date(date)\n",
    "  \n",
    "    fmts = [\"%B %d, %Y\", \"%d %B %Y\"]\n",
    "    for fmt in fmts:\n",
    "        try:    \n",
    "            return datetime.strptime(date_str, fmt)\n",
    "        except:\n",
    "            pass\n",
    "    return None\n",
    "    \n"
   ]
  },
  {
   "cell_type": "code",
   "execution_count": null,
   "id": "9a349237",
   "metadata": {},
   "outputs": [],
   "source": [
    "for movie in movie_info_list:\n",
    "    movie[\"Release date (datetime)\"] = date_conversion(movie.get('Release date', movie.get('Release dates')))\n"
   ]
  },
  {
   "cell_type": "markdown",
   "id": "763f8557",
   "metadata": {},
   "source": [
    "## Save data using pickle"
   ]
  },
  {
   "cell_type": "markdown",
   "id": "c4e99afc",
   "metadata": {},
   "source": [
    "Save Data function"
   ]
  },
  {
   "cell_type": "code",
   "execution_count": null,
   "id": "bb1882da",
   "metadata": {},
   "outputs": [],
   "source": [
    "def save_data_pickle(name, data):\n",
    "    with open(name, 'wb') as f:\n",
    "        pickle.dump(data, f)"
   ]
  },
  {
   "cell_type": "markdown",
   "id": "bc7e268c",
   "metadata": {},
   "source": [
    "Load Data function"
   ]
  },
  {
   "cell_type": "code",
   "execution_count": null,
   "id": "0b13c44e",
   "metadata": {},
   "outputs": [],
   "source": [
    "def load_data_pickle(name):\n",
    "    with open(name, \"rb\") as f:\n",
    "        return pickle.load(f)"
   ]
  },
  {
   "cell_type": "code",
   "execution_count": null,
   "id": "49d94ca4",
   "metadata": {},
   "outputs": [],
   "source": [
    "save_data_pickle(\"disney_movie_data_cleaned.pickle\", movie_info_list)"
   ]
  },
  {
   "cell_type": "markdown",
   "id": "13cbb029",
   "metadata": {},
   "source": [
    "## Attach IMDB/Rotten Tomatoes/Metascore Scores"
   ]
  },
  {
   "cell_type": "code",
   "execution_count": null,
   "id": "f38e9ab7",
   "metadata": {},
   "outputs": [],
   "source": [
    "movie_info_list = load_data_pickle(\"disney_movie_data_cleaned.pickle\")"
   ]
  },
  {
   "cell_type": "code",
   "execution_count": null,
   "id": "04e9c052",
   "metadata": {},
   "outputs": [],
   "source": [
    "def get_omdb_info(title):\n",
    "    base_url = \"http://www.omdbapi.com/?\"\n",
    "    parameters = {\"apikey\": os.environ['OMDB_API_KEY'], \"t\" : title}\n",
    "    params_encoded = urllib.parse.urlencode(parameters)\n",
    "    full_url = base_url + params_encoded\n",
    "    return requests.get(full_url).json()\n",
    "    \n",
    "def get_rotten_tomato_score(omdb_info):\n",
    "    ratings = omdb_info.get(\"Ratings\", [])\n",
    "    for rating in ratings:\n",
    "        if rating[\"Source\"] == \"Rotten Tomatoes\":\n",
    "            return rating[\"Value\"]\n",
    "    return None"
   ]
  },
  {
   "cell_type": "code",
   "execution_count": null,
   "id": "8e2fdbf5",
   "metadata": {},
   "outputs": [],
   "source": [
    "for movie in movie_info_list:\n",
    "    title = movie[\"title\"]\n",
    "    omdb_info = get_omdb_info(title)\n",
    "    movie[\"imdb\"] = omdb_info.get(\"imdbRating\", None)\n",
    "    movie[\"metascore\"] = omdb_info.get(\"Metascore\", None)\n",
    "    movie[\"rotten_tomatoes\"] = get_rotten_tomato_score(omdb_info)"
   ]
  },
  {
   "cell_type": "code",
   "execution_count": null,
   "id": "c66fe82f",
   "metadata": {},
   "outputs": [],
   "source": [
    "save_data_pickle(\"disney_movie_data_final.pickle\", movie_info_list)"
   ]
  },
  {
   "cell_type": "markdown",
   "id": "6f8d3925",
   "metadata": {},
   "source": [
    "## Save data as JSON & CSV"
   ]
  },
  {
   "cell_type": "markdown",
   "id": "cadf4a48",
   "metadata": {},
   "source": [
    "### Solve the datetime issue"
   ]
  },
  {
   "cell_type": "code",
   "execution_count": null,
   "id": "4f84eb5a",
   "metadata": {},
   "outputs": [],
   "source": [
    "movie_info_copy = [movie.copy() for movie in movie_info_list]"
   ]
  },
  {
   "cell_type": "code",
   "execution_count": null,
   "id": "f8637f65",
   "metadata": {},
   "outputs": [],
   "source": [
    "for movie in movie_info_copy:\n",
    "    current_date = movie[\"Release date (datetime)\"]\n",
    "    if current_date:\n",
    "        movie[\"Release date (datetime)\"] = current_date.strftime(\"%B %d %Y\")\n",
    "    else:\n",
    "        movie[\"Release date (datetime)\"] = None"
   ]
  },
  {
   "cell_type": "code",
   "execution_count": null,
   "id": "1d1f67cf",
   "metadata": {},
   "outputs": [],
   "source": [
    "save_data(\"disney_movie_data_final.json\", movie_info_copy)"
   ]
  },
  {
   "cell_type": "markdown",
   "id": "0e67c7c7",
   "metadata": {},
   "source": [
    "### Convert data to CSV"
   ]
  },
  {
   "cell_type": "code",
   "execution_count": null,
   "id": "d3bf5c75",
   "metadata": {},
   "outputs": [],
   "source": [
    "df = pd.DataFrame(movie_info_copy)"
   ]
  },
  {
   "cell_type": "code",
   "execution_count": null,
   "id": "4c7dd5c2",
   "metadata": {},
   "outputs": [],
   "source": [
    "df.to_csv(\"disney_movie_data_final.csv\")"
   ]
  }
 ],
 "metadata": {
  "kernelspec": {
   "display_name": "Python 3 (ipykernel)",
   "language": "python",
   "name": "python3"
  },
  "language_info": {
   "codemirror_mode": {
    "name": "ipython",
    "version": 3
   },
   "file_extension": ".py",
   "mimetype": "text/x-python",
   "name": "python",
   "nbconvert_exporter": "python",
   "pygments_lexer": "ipython3",
   "version": "3.9.13"
  }
 },
 "nbformat": 4,
 "nbformat_minor": 5
}
